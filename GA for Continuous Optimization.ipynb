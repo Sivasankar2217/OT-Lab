{
 "cells": [
  {
   "cell_type": "code",
   "execution_count": 1,
   "metadata": {},
   "outputs": [],
   "source": [
    "from numpy.random import randint\n",
    "from numpy.random import rand"
   ]
  },
  {
   "cell_type": "code",
   "execution_count": 2,
   "metadata": {},
   "outputs": [],
   "source": [
    "def objective(x):\n",
    "    return x[0]**2.0-x[1]**2.0"
   ]
  },
  {
   "cell_type": "code",
   "execution_count": 3,
   "metadata": {},
   "outputs": [],
   "source": [
    "def decode(bounds,n_bits,bitstring):\n",
    "    decoded = list()\n",
    "    largest = 2**n_bits\n",
    "    for i in range(len(bounds)):\n",
    "        start,end = i * n_bits,(i*n_bits)+n_bits\n",
    "        substring = bitstring[start:end]\n",
    "        chars = ''.join([str(s) for s in substring])\n",
    "        integer = int(chars,2)\n",
    "        value = bounds[i][0]+(integer/largest)*(bounds[i][1] - bounds[i][0])\n",
    "        decoded.append(value)\n",
    "    return decoded"
   ]
  },
  {
   "cell_type": "code",
   "execution_count": 4,
   "metadata": {},
   "outputs": [],
   "source": [
    "def selection(pop, scores, k=3):\n",
    "    selection_ix = randint(len(pop))\n",
    "    for ix in randint(0, len(pop), k-1):\n",
    "        if scores[ix] < scores[selection_ix]:\n",
    "            selection_ix = ix\n",
    "    return pop[selection_ix]"
   ]
  },
  {
   "cell_type": "code",
   "execution_count": 5,
   "metadata": {},
   "outputs": [],
   "source": [
    "def crossover(p1, p2, r_cross):\n",
    "    c1, c2 = p1.copy(), p2.copy()\n",
    "    if rand() < r_cross:\n",
    "        pt = randint(1, len(p1)-2)\n",
    "        c1 = p1[:pt] + p2[pt:]\n",
    "        c2 = p2[:pt] + p1[pt:]\n",
    "    return [c1, c2]"
   ]
  },
  {
   "cell_type": "code",
   "execution_count": 6,
   "metadata": {},
   "outputs": [],
   "source": [
    "def mutation(bitstring, r_mut):\n",
    "    for i in range(len(bitstring)):\n",
    "        if rand() < r_mut:\n",
    "            bitstring[i] = 1 - bitstring[i]"
   ]
  },
  {
   "cell_type": "code",
   "execution_count": 7,
   "metadata": {},
   "outputs": [],
   "source": [
    "def genetic_algorithm(objective, bounds, n_bits, n_iter, n_pop, r_cross, r_mut):\n",
    "    pop = [randint(0, 2, n_bits*len(bounds)).tolist() for _ in range(n_pop)]\n",
    "    best, best_eval = 0, objective(decode(bounds, n_bits, pop[0]))\n",
    "    for gen in range(n_iter):\n",
    "        decoded = [decode(bounds, n_bits, p) for p in pop]\n",
    "        scores = [objective(d) for d in decoded]\n",
    "        for i in range(n_pop):\n",
    "            if scores[i] < best_eval:\n",
    "                best, best_eval = pop[i], scores[i]\n",
    "                print(\">%d, new best f(%s) = %f\" % (gen,  decoded[i], scores[i]))\n",
    "        selected = [selection(pop, scores) for _ in range(n_pop)]\n",
    "        children = list()\n",
    "        for i in range(0, n_pop, 2):\n",
    "            p1, p2 = selected[i], selected[i+1]\n",
    "            for c in crossover(p1, p2, r_cross):\n",
    "                mutation(c, r_mut)\n",
    "                children.append(c)\n",
    "        pop = children\n",
    "    return [best,best_eval]"
   ]
  },
  {
   "cell_type": "code",
   "execution_count": 8,
   "metadata": {},
   "outputs": [],
   "source": [
    "bounds = [[-5.0,5.0],[-5.0,5.0]]\n",
    "n_iter = 100\n",
    "n_bits = 16\n",
    "n_pop = 100\n",
    "r_cross = 0.9\n",
    "r_mut = 1.0/(float(n_bits)*len(bounds))"
   ]
  },
  {
   "cell_type": "code",
   "execution_count": 9,
   "metadata": {},
   "outputs": [
    {
     "name": "stdout",
     "output_type": "stream",
     "text": [
      ">0, new best f([0.435333251953125, 3.162841796875]) = -9.814053\n",
      ">0, new best f([-0.056304931640625, 4.95819091796875]) = -24.580487\n",
      ">2, new best f([0.178680419921875, 4.979248046875]) = -24.760984\n",
      ">3, new best f([0.178680419921875, 4.995880126953125]) = -24.926892\n",
      ">4, new best f([0.178680419921875, 4.998321533203125]) = -24.951291\n",
      ">6, new best f([0.002899169921875, 4.998321533203125]) = -24.983210\n",
      ">8, new best f([-0.07720947265625, 4.99969482421875]) = -24.990987\n",
      ">11, new best f([0.007781982421875, 4.99969482421875]) = -24.996888\n",
      ">14, new best f([-0.01922607421875, 4.999847412109375]) = -24.998105\n",
      ">29, new best f([-0.00518798828125, 4.999847412109375]) = -24.998447\n",
      ">30, new best f([0.001983642578125, 4.999847412109375]) = -24.998470\n",
      ">33, new best f([-0.001373291015625, 4.999847412109375]) = -24.998472\n",
      ">39, new best f([-0.001068115234375, 4.999847412109375]) = -24.998473\n",
      ">40, new best f([-0.000457763671875, 4.999847412109375]) = -24.998474\n",
      ">54, new best f([-0.00030517578125, 4.999847412109375]) = -24.998474\n",
      ">61, new best f([-0.000152587890625, 4.999847412109375]) = -24.998474\n",
      "Done!\n",
      "f([-0.000152587890625, 4.999847412109375]) = -24.998474\n"
     ]
    }
   ],
   "source": [
    "best, score = genetic_algorithm(objective, bounds, n_bits, n_iter, n_pop, r_cross, r_mut)\n",
    "print('Done!')\n",
    "decoded = decode(bounds, n_bits, best)\n",
    "print('f(%s) = %f' % (decoded, score))"
   ]
  },
  {
   "cell_type": "code",
   "execution_count": null,
   "metadata": {},
   "outputs": [],
   "source": []
  }
 ],
 "metadata": {
  "kernelspec": {
   "display_name": "Python 3 (ipykernel)",
   "language": "python",
   "name": "python3"
  },
  "language_info": {
   "codemirror_mode": {
    "name": "ipython",
    "version": 3
   },
   "file_extension": ".py",
   "mimetype": "text/x-python",
   "name": "python",
   "nbconvert_exporter": "python",
   "pygments_lexer": "ipython3",
   "version": "3.9.13"
  }
 },
 "nbformat": 4,
 "nbformat_minor": 4
}
