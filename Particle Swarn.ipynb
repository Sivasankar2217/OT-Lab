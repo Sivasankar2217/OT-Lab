{
 "cells": [
  {
   "cell_type": "code",
   "execution_count": 1,
   "metadata": {},
   "outputs": [],
   "source": [
    "import random\n",
    "import copy \n",
    "import sys"
   ]
  },
  {
   "cell_type": "code",
   "execution_count": 2,
   "metadata": {},
   "outputs": [],
   "source": [
    "def fitness_sphere(position):\n",
    "    fitnessVal = 0.0\n",
    "    for i in range(len(position)):\n",
    "        xi = position[i]\n",
    "        fitnessVal += (xi*xi)\n",
    "    return fitnessVal"
   ]
  },
  {
   "cell_type": "code",
   "execution_count": 3,
   "metadata": {},
   "outputs": [],
   "source": [
    "class Particle:\n",
    "    def __init__(self,fiteness,dim,minx,maxx,seed):\n",
    "        self.rnd = random.Random(seed)\n",
    "        self.position = [0.0 for i in range(dim)]\n",
    "        self.velocity = [0.0 for i in range(dim)]\n",
    "        self.best_part_pos = [0.0 for i in range(dim)]\n",
    "        for i in range(dim):\n",
    "            self.position[i] = ((maxx - minx) *self.rnd.random() + minx)\n",
    "            self.velocity[i] = ((maxx - minx) *self.rnd.random() + minx)\n",
    "        self.fitness = fitness(self.position) \n",
    "        self.best_part_pos = copy.copy(self.position)\n",
    "        self.best_part_fitnessVal = self.fitness"
   ]
  },
  {
   "cell_type": "code",
   "execution_count": 4,
   "metadata": {},
   "outputs": [],
   "source": [
    "    def pso(fitness,max_iter,n,dim,minx,maxx):\n",
    "        w = 0.729\n",
    "        c1 = 1.49445\n",
    "        c2 = 1.49445\n",
    "        rnd = random.Random(0)\n",
    "        swarm = [Particle(fitness,dim,minx,maxx,i)for i in range(n)]\n",
    "        \n",
    "        best_swarm_pos = [0.0 for i in range(dim)]\n",
    "        best_swarm_fitnessVal = sys.float_info.max\n",
    "        \n",
    "        for i in range(n):\n",
    "            if swarm[i].fitness<best_swarm_fitnessVal:\n",
    "                best_swarm_fitnessVal = swarm[i].fitness\n",
    "                best_swarm_pos= copy.copy(swarm[i].position)\n",
    "        \n",
    "        Iter = 0\n",
    "        while Iter < max_iter:\n",
    "            if  Iter % 10 == 0 and Iter > 1:\n",
    "                print(\"Iter =\" +str(Iter)+ \"best fitness = %.3f\" %\n",
    "                      best_swarm_fitnessVal+\"Best Position:\"+ str([\"%.6f\"%best_swarm_pos[k] \n",
    "                                                                   for k in range(dim)]))\n",
    "            for i in range(n):\n",
    "                for k in range(dim):\n",
    "                    r1 = rnd.random()\n",
    "                    r2 = rnd.random()\n",
    "                    \n",
    "                    swarm[i].velocity[k] = (\n",
    "                    (w * swarm[i].velocity[k])+\n",
    "                    (c1*r1*(swarm[i].best_part_pos[k]-\n",
    "                    swarm[i].position[k])) +\n",
    "                        (c2*r2*(best_swarm_pos[k]- swarm[i].position[k]))\n",
    "                    )\n",
    "                if swarm[i].velocity[k]<minx:\n",
    "                    swarm[i].velocity[k] = minx\n",
    "                elif swarm[i].velocity[k]>maxx:\n",
    "                    swarm[i].velocity[k] = maxx\n",
    "            for k in range(dim):\n",
    "                swarm[i].position[k]+= swarm[i].velocity[k]\n",
    "            swarm[i].fitness = fitness(swarm[i].position)\n",
    "            \n",
    "            if swarm[i].fitness<swarm[i].best_part_fitnessVal:\n",
    "                swarm[i].best_part_fitnessVal = swarm[i].fitness\n",
    "                swarm[i].best_swarm_pos = copy.copy(swarm[i].position)\n",
    "\n",
    "            if swarm[i].fitness<best_swarm_fitnessVal:\n",
    "                best_swarm_fitnessVal = swarm[i].fitness\n",
    "                best_swarm_pos = copy.copy(swarm[i].position)\n",
    "            Iter +=1\n",
    "        return best_swarm_pos"
   ]
  },
  {
   "cell_type": "code",
   "execution_count": 5,
   "metadata": {},
   "outputs": [],
   "source": [
    "dim = 3 \n",
    "fitness = fitness_sphere\n",
    "num_particles = 50\n",
    "max_iter = 100"
   ]
  },
  {
   "cell_type": "code",
   "execution_count": 6,
   "metadata": {},
   "outputs": [
    {
     "name": "stdout",
     "output_type": "stream",
     "text": [
      "\n",
      " Starting PSO algorithm\n",
      "\n",
      "Iter =10best fitness = 8.154Best Position:['-0.448772', '2.547194', '-1.210033']\n",
      "Iter =20best fitness = 8.154Best Position:['-0.448772', '2.547194', '-1.210033']\n",
      "Iter =30best fitness = 4.566Best Position:['1.016967', '1.224638', '-1.425438']\n",
      "Iter =40best fitness = 4.566Best Position:['1.016967', '1.224638', '-1.425438']\n",
      "Iter =50best fitness = 4.566Best Position:['1.016967', '1.224638', '-1.425438']\n",
      "Iter =60best fitness = 4.566Best Position:['1.016967', '1.224638', '-1.425438']\n",
      "Iter =70best fitness = 1.299Best Position:['0.977990', '-0.175506', '0.557948']\n",
      "Iter =80best fitness = 0.960Best Position:['-0.623589', '-0.353550', '0.668266']\n",
      "Iter =90best fitness = 0.960Best Position:['-0.623589', '-0.353550', '0.668266']\n",
      "\n",
      "PSO completed\n",
      "\n",
      "\n",
      "Best solution found:\n",
      "['-0.623589', '-0.353550', '0.668266']\n",
      "fitness of best solution = 0.960440\n"
     ]
    }
   ],
   "source": [
    "print(\"\\n Starting PSO algorithm\\n\")\n",
    "best_position = pso(fitness,max_iter,num_particles,dim,-10.0,10.0)\n",
    "print(\"\\nPSO completed\\n\")\n",
    "print(\"\\nBest solution found:\")\n",
    "print([\"%.6f\"%best_position[k] for k in range(dim)])\n",
    "fitnessVal = fitness(best_position)\n",
    "print(\"fitness of best solution = %.6f\" % fitnessVal)"
   ]
  },
  {
   "cell_type": "code",
   "execution_count": null,
   "metadata": {},
   "outputs": [],
   "source": []
  }
 ],
 "metadata": {
  "kernelspec": {
   "display_name": "Python 3 (ipykernel)",
   "language": "python",
   "name": "python3"
  },
  "language_info": {
   "codemirror_mode": {
    "name": "ipython",
    "version": 3
   },
   "file_extension": ".py",
   "mimetype": "text/x-python",
   "name": "python",
   "nbconvert_exporter": "python",
   "pygments_lexer": "ipython3",
   "version": "3.9.13"
  }
 },
 "nbformat": 4,
 "nbformat_minor": 4
}
