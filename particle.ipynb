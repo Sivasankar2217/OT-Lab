{
 "cells": [
  {
   "cell_type": "code",
   "execution_count": 3,
   "id": "93e9a00d",
   "metadata": {},
   "outputs": [
    {
     "name": "stdout",
     "output_type": "stream",
     "text": [
      "Best Solution: [-171.65157652 -218.18871622]\n",
      "Best Fitness: -779.6805854707388\n"
     ]
    }
   ],
   "source": [
    "import numpy as np\n",
    "\n",
    "# Define the objective function to be optimized\n",
    "def objective_function(x):\n",
    "    return x[0]*2 + x[1]*2  # Example: minimize x^2 + y^2\n",
    "\n",
    "class Particle:\n",
    "    def __init__(self, num_dimensions, lb, ub):\n",
    "        self.position = np.random.uniform(lb, ub, num_dimensions)\n",
    "        self.velocity = np.random.uniform(-1, 1, num_dimensions)\n",
    "        self.best_position = self.position\n",
    "        self.best_fitness = float('inf')\n",
    "\n",
    "\n",
    "def particle_swarm_optimization(objective_function, num_particles, num_dimensions, lb, ub, num_iterations, w, c1, c2):\n",
    "    # Initialize the particles\n",
    "    particles = [Particle(num_dimensions, lb, ub) for _ in range(num_particles)]\n",
    "\n",
    "    # Initialize the global best position and fitness\n",
    "    global_best_position = np.zeros(num_dimensions)\n",
    "    global_best_fitness = float('inf')\n",
    "\n",
    "    for iteration in range(num_iterations):\n",
    "        for particle in particles:\n",
    "            # Evaluate the fitness of the current particle\n",
    "            fitness = objective_function(particle.position)\n",
    "\n",
    "            # Update the particle's best position and fitness\n",
    "            if fitness < particle.best_fitness:\n",
    "                particle.best_fitness = fitness\n",
    "                particle.best_position = particle.position.copy()\n",
    "\n",
    "            # Update the global best position and fitness\n",
    "            if fitness < global_best_fitness:\n",
    "                global_best_fitness = fitness\n",
    "                global_best_position = particle.position.copy()\n",
    "\n",
    "        for particle in particles:\n",
    "            # Update the particle's velocity and position\n",
    "            r1, r2 = np.random.rand(), np.random.rand()\n",
    "            new_velocity = (w * particle.velocity +\n",
    "                            c1 * r1 * (particle.best_position - particle.position) +\n",
    "                            c2 * r2 * (global_best_position - particle.position))\n",
    "            particle.velocity = new_velocity\n",
    "            particle.position += particle.velocity\n",
    "\n",
    "    return global_best_position, global_best_fitness\n",
    "\n",
    "# Define the problem dimension and bounds\n",
    "num_dimensions = 2\n",
    "lower_bound = np.array([-5, -5])\n",
    "upper_bound = np.array([5, 5])\n",
    "\n",
    "# Set the algorithm parameters\n",
    "num_particles = 50\n",
    "num_iterations = 10\n",
    "w = 0.729  # Inertia weight\n",
    "c1 = 1.49445  # Cognitive coefficient (individual learning)\n",
    "c2 = 1.49445  # Social coefficient (group learning)\n",
    "\n",
    "# Run the Particle Swarm Optimization algorithm\n",
    "best_solution, best_fitness = particle_swarm_optimization(objective_function, num_particles, num_dimensions, lower_bound, upper_bound, num_iterations, w, c1, c2)\n",
    "\n",
    "# Print the results\n",
    "print(\"Best Solution:\", best_solution)\n",
    "print(\"Best Fitness:\", best_fitness)"
   ]
  },
  {
   "cell_type": "code",
   "execution_count": null,
   "id": "6ae92daf",
   "metadata": {},
   "outputs": [],
   "source": []
  }
 ],
 "metadata": {
  "kernelspec": {
   "display_name": "Python 3 (ipykernel)",
   "language": "python",
   "name": "python3"
  },
  "language_info": {
   "codemirror_mode": {
    "name": "ipython",
    "version": 3
   },
   "file_extension": ".py",
   "mimetype": "text/x-python",
   "name": "python",
   "nbconvert_exporter": "python",
   "pygments_lexer": "ipython3",
   "version": "3.9.13"
  }
 },
 "nbformat": 4,
 "nbformat_minor": 5
}
