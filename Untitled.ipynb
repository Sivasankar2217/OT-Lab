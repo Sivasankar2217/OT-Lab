{
 "cells": [
  {
   "cell_type": "code",
   "execution_count": 3,
   "id": "3d3456da",
   "metadata": {},
   "outputs": [],
   "source": [
    "import numpy as np\n",
    "import random\n",
    "\n",
    "# Distance matrix (replace with your own data)\n",
    "distance_matrix = np.array([\n",
    "    [0, 5, 4, 2, 1],\n",
    "    [5, 0, 6, 4, 3],\n",
    "    [4, 6, 0, 3, 2],\n",
    "    [2, 4, 3, 0, 1],\n",
    "    [1, 3, 2, 1, 0]\n",
    "])"
   ]
  },
  {
   "cell_type": "code",
   "execution_count": 4,
   "id": "be2f386a",
   "metadata": {},
   "outputs": [],
   "source": [
    "num_cities = len(distance_matrix)\n",
    "\n",
    "def nearest_neighbor_initialization():\n",
    "    start_city = random.randint(0, num_cities - 1)\n",
    "    tour = [start_city]\n",
    "    remaining_cities = list(range(num_cities))\n",
    "    remaining_cities.remove(start_city)\n",
    "\n",
    "    while remaining_cities:\n",
    "        current_city = tour[-1]\n",
    "        nearest_city = min(remaining_cities, key=lambda city: distance_matrix[current_city][city])\n",
    "        tour.append(nearest_city)\n",
    "        remaining_cities.remove(nearest_city)\n",
    "\n",
    "    return tour"
   ]
  },
  {
   "cell_type": "code",
   "execution_count": 5,
   "id": "0103ce35",
   "metadata": {},
   "outputs": [
    {
     "name": "stdout",
     "output_type": "stream",
     "text": [
      "Graph generation and display:\n",
      "Distance Matrix:\n",
      "[[0 5 4 2 1]\n",
      " [5 0 6 4 3]\n",
      " [4 6 0 3 2]\n",
      " [2 4 3 0 1]\n",
      " [1 3 2 1 0]]\n",
      "\n",
      "Nearest neighbor initialization:\n",
      "[0, 4, 3, 2, 1]\n",
      "[0, 4, 3, 2, 1, 0]\n"
     ]
    }
   ],
   "source": [
    "# Initialization\n",
    "print(\"Graph generation and display:\")\n",
    "print(\"Distance Matrix:\")\n",
    "print(distance_matrix)\n",
    "\n",
    "# Nearest Neighbor Initialization\n",
    "nn_tour = nearest_neighbor_initialization()\n",
    "print(\"\\nNearest neighbor initialization:\")\n",
    "print(nn_tour)\n",
    "print(nn_tour + [nn_tour[0]])  # Complete the tour"
   ]
  },
  {
   "cell_type": "code",
   "execution_count": 6,
   "id": "c8f88d06",
   "metadata": {},
   "outputs": [],
   "source": [
    "\n",
    "def shortest_edge_initialization():\n",
    "    tour = [0]\n",
    "    remaining_cities = list(range(1, num_cities))\n",
    "\n",
    "    while remaining_cities:\n",
    "        current_city = tour[-1]\n",
    "        next_city = min(remaining_cities, key=lambda city: distance_matrix[current_city][city])\n",
    "        tour.append(next_city)\n",
    "        remaining_cities.remove(next_city)\n",
    "\n",
    "    tour.append(tour[0])  # Complete the tour by returning to the starting city\n",
    "    return tour"
   ]
  },
  {
   "cell_type": "code",
   "execution_count": 7,
   "id": "27981bcb",
   "metadata": {},
   "outputs": [
    {
     "name": "stdout",
     "output_type": "stream",
     "text": [
      "\n",
      "Shortest edge initialization:\n",
      "[0, 4, 3, 2, 1, 0]\n",
      "[0, 4, 3, 2, 1, 0, 0]\n"
     ]
    }
   ],
   "source": [
    "# Shortest Edge Initialization\n",
    "se_tour = shortest_edge_initialization()\n",
    "print(\"\\nShortest edge initialization:\")\n",
    "print(se_tour)\n",
    "print(se_tour + [se_tour[0]])  # Complete the tour"
   ]
  },
  {
   "cell_type": "code",
   "execution_count": 8,
   "id": "969e5623",
   "metadata": {},
   "outputs": [],
   "source": [
    "\n",
    "def partially_matched_crossover(parent1, parent2):\n",
    "    n = len(parent1)\n",
    "    start = random.randint(0, n - 1)\n",
    "    end = random.randint(start + 1, n)\n",
    "    child1 = [None] * n\n",
    "    child2 = [None] * n\n",
    "\n",
    "    # Copy the segment between start and end from parent1 to child1 and from parent2 to child2\n",
    "    child1[start:end] = parent1[start:end]\n",
    "    child2[start:end] = parent2[start:end]\n",
    "\n",
    "    # Fill in the remaining elements from parent2 for child1 and from parent1 for child2\n",
    "    for i in range(n):\n",
    "        if child1[i] is None:\n",
    "            city = parent2[i]\n",
    "            while city in child1:\n",
    "                index = parent2.index(city)\n",
    "                city = parent2[(index + 1) % n]\n",
    "            child1[i] = city\n",
    "\n",
    "        if child2[i] is None:\n",
    "            city = parent1[i]\n",
    "            while city in child2:\n",
    "                index = parent1.index(city)\n",
    "                city = parent1[(index + 1) % n]\n",
    "            child2[i] = city\n",
    "\n",
    "    return child1, child2"
   ]
  },
  {
   "cell_type": "code",
   "execution_count": 9,
   "id": "295f0bc1",
   "metadata": {},
   "outputs": [
    {
     "name": "stdout",
     "output_type": "stream",
     "text": [
      "\n",
      "Partially matched crossover:\n",
      "([3, 2, 1, 0, 4], [1, 2, 3, 4, 0])\n"
     ]
    }
   ],
   "source": [
    "# Crossover\n",
    "parent1 = [0, 1, 2, 3, 4]\n",
    "parent2 = [4, 3, 2, 1, 0]\n",
    "print(\"\\nPartially matched crossover:\")\n",
    "print(partially_matched_crossover(parent1, parent2))"
   ]
  },
  {
   "cell_type": "code",
   "execution_count": 10,
   "id": "228d44e8",
   "metadata": {},
   "outputs": [],
   "source": [
    "def order_crossover(parent1, parent2):\n",
    "    n = len(parent1)\n",
    "    start = random.randint(0, n - 1)\n",
    "    end = random.randint(start + 1, n)\n",
    "    child1 = [-1] * n\n",
    "    child2 = [-1] * n\n",
    "\n",
    "    # Copy the segment between start and end from parent1 to child1 and from parent2 to child2\n",
    "    child1[start:end] = parent1[start:end]\n",
    "    child2[start:end] = parent2[start:end]\n",
    "\n",
    "    # Fill in the remaining elements from parent2 for child1 and from parent1 for child2\n",
    "    j1 = end\n",
    "    j2 = end\n",
    "\n",
    "    for i in range(n):\n",
    "        if parent2[(i + end) % n] not in child1:\n",
    "            child1[j1 % n] = parent2[(i + end) % n]\n",
    "            j1 += 1\n",
    "\n",
    "        if parent1[(i + end) % n] not in child2:\n",
    "            child2[j2 % n] = parent1[(i + end) % n]\n",
    "            j2 += 1\n",
    "\n",
    "    return child1, child2"
   ]
  },
  {
   "cell_type": "code",
   "execution_count": 12,
   "id": "679bcdaf",
   "metadata": {},
   "outputs": [
    {
     "name": "stdout",
     "output_type": "stream",
     "text": [
      "\n",
      "Order crossover:\n",
      "([4, 2, 1, 3, 0], [0, 2, 3, 1, 4])\n"
     ]
    }
   ],
   "source": [
    "parent1 = [0, 1, 2, 3, 4]\n",
    "parent2 = [4, 3, 2, 1, 0]\n",
    "print(\"\\nOrder crossover:\")\n",
    "print(order_crossover(parent1, parent2))"
   ]
  },
  {
   "cell_type": "code",
   "execution_count": 13,
   "id": "8eab8e1c",
   "metadata": {},
   "outputs": [],
   "source": [
    "def mutation_by_inversion(tour):\n",
    "    start = random.randint(0, len(tour) - 1)\n",
    "    end = random.randint(start + 1, len(tour))\n",
    "    tour[start:end] = reversed(tour[start:end])\n",
    "    return tour"
   ]
  },
  {
   "cell_type": "code",
   "execution_count": 14,
   "id": "724deb60",
   "metadata": {},
   "outputs": [
    {
     "name": "stdout",
     "output_type": "stream",
     "text": [
      "\n",
      "Mutation by inversion:\n",
      "[0, 1, 2, 3, 4]\n"
     ]
    }
   ],
   "source": [
    "tour = [0, 1, 2, 3, 4]\n",
    "print(\"\\nMutation by inversion:\")\n",
    "print(mutation_by_inversion(tour))"
   ]
  },
  {
   "cell_type": "code",
   "execution_count": 15,
   "id": "9f166cb8",
   "metadata": {},
   "outputs": [],
   "source": [
    "def mutation_by_insertion(tour):\n",
    "    city1, city2 = random.sample(tour, 2)\n",
    "    index1 = tour.index(city1)\n",
    "    index2 = tour.index(city2)\n",
    "    tour.insert(index1, city2)\n",
    "    tour.pop(index2 + 1)\n",
    "    return tour"
   ]
  },
  {
   "cell_type": "code",
   "execution_count": 17,
   "id": "d09a1021",
   "metadata": {},
   "outputs": [
    {
     "name": "stdout",
     "output_type": "stream",
     "text": [
      "\n",
      "Mutation by insertion:\n",
      "[0, 1, 4, 2, 3]\n"
     ]
    }
   ],
   "source": [
    "tour = [0, 1, 2, 3, 4]\n",
    "\n",
    "print(\"\\nMutation by insertion:\")\n",
    "print(mutation_by_insertion(tour))"
   ]
  },
  {
   "cell_type": "code",
   "execution_count": null,
   "id": "625b9d75",
   "metadata": {},
   "outputs": [],
   "source": []
  }
 ],
 "metadata": {
  "kernelspec": {
   "display_name": "Python 3 (ipykernel)",
   "language": "python",
   "name": "python3"
  },
  "language_info": {
   "codemirror_mode": {
    "name": "ipython",
    "version": 3
   },
   "file_extension": ".py",
   "mimetype": "text/x-python",
   "name": "python",
   "nbconvert_exporter": "python",
   "pygments_lexer": "ipython3",
   "version": "3.9.13"
  }
 },
 "nbformat": 4,
 "nbformat_minor": 5
}
